{
 "cells": [
  {
   "cell_type": "code",
   "execution_count": null,
   "metadata": {
    "colab": {
     "base_uri": "https://localhost:8080/"
    },
    "id": "7mNaXLPWnMag",
    "outputId": "cae2f5f9-339c-40e7-a515-574e9b9b05e8"
   },
   "outputs": [],
   "source": [
    "!pip install p_tqdm\n",
    "!pip install dcor\n",
    "!pip install iisignature\n",
    "!pip install quantstats"
   ]
  },
  {
   "cell_type": "code",
   "execution_count": null,
   "metadata": {
    "id": "SJLMYv7MnPUn"
   },
   "outputs": [],
   "source": [
    "import os\n",
    "import numpy as np\n",
    "import pandas as pd\n",
    "from tqdm import tqdm\n",
    "from sklearn.linear_model import TheilSenRegressor\n",
    "from sklearn.linear_model import LinearRegression\n",
    "from preprocessing_data.preprocessing import  selected_uni ,preprocess_ffill,resample_crypto_data\n",
    "from models.LeadLag_main import LeadLagAnalyzer\n",
    "root_path = '../LeadLag_signature'"
   ]
  },
  {
   "cell_type": "code",
   "execution_count": null,
   "metadata": {
    "colab": {
     "base_uri": "https://localhost:8080/",
     "height": 53
    },
    "id": "eByv9sP2OBev",
    "outputId": "f72cf5f6-9fd0-4158-e65d-a30b57603ab5"
   },
   "outputs": [],
   "source": [
    "df_universe = pd.read_csv(f'{root_path}/raw_data/universe_data.csv')\n",
    "df_MTO = pd.read_csv(f'{root_path}/raw_data/Market_Turnover.csv')\n",
    "\n",
    "close_price = pd.read_csv(f'{root_path}/raw_data/1H_prices_20250811.csv')\n",
    "close_price = close_price.set_index('date')\n",
    "\n",
    "df_MTO = df_MTO.set_index('date')\n",
    "\n",
    "\n",
    "close_price = close_price.rename_axis(\"date\")\n",
    "df_MTO = df_MTO.rename_axis(\"date\")\n",
    "\n",
    "close_price.index = pd.to_datetime(close_price.index)\n",
    "df_MTO.index = pd.to_datetime(df_MTO.index)\n",
    "\n",
    "df_MTO = df_MTO.drop(columns=[\"datetime\"])\n",
    "if 'datetime' in close_price.columns:\n",
    "  close_price = close_price.drop(columns=[\"datetime\"])\n",
    "\n",
    "df_MTO = df_MTO.ffill()\n",
    "df_universe.iloc[0]['symbols']"
   ]
  },
  {
   "cell_type": "code",
   "execution_count": null,
   "metadata": {
    "colab": {
     "base_uri": "https://localhost:8080/",
     "height": 649
    },
    "id": "kih4DfdIooDp",
    "outputId": "8c5a5834-f627-4031-ee86-41a270d73fb2"
   },
   "outputs": [],
   "source": [
    "close_price = resample_crypto_data(close_price, '1D', 'close')\n",
    "# close_price = resample_crypto_data(close_price, '4H', 'close')\n",
    "\n",
    "# close_price1 = resample_crypto_data(close_price, '4H', 'close')\n",
    "close_price"
   ]
  },
  {
   "cell_type": "code",
   "execution_count": null,
   "metadata": {
    "colab": {
     "base_uri": "https://localhost:8080/",
     "height": 490
    },
    "id": "1mSAA9Lev0ay",
    "outputId": "8428c39e-00d4-4f4f-9e55-e4ba4193ff8c"
   },
   "outputs": [],
   "source": [
    "universe = selected_uni(close_price , df_universe , maximum_coin=20 , window_size=210)\n",
    "universe"
   ]
  },
  {
   "cell_type": "code",
   "execution_count": null,
   "metadata": {
    "colab": {
     "base_uri": "https://localhost:8080/",
     "height": 649
    },
    "id": "CLMtTJ6owgnq",
    "outputId": "ecc8afcb-9e5f-49ea-ba9a-0bcd3609801b"
   },
   "outputs": [],
   "source": [
    "close_price , universe = preprocess_ffill(close_price,universe , end_date='2025-01-01')\n",
    "close_price"
   ]
  },
  {
   "cell_type": "markdown",
   "metadata": {
    "id": "wLw59IpCnzhV"
   },
   "source": [
    "LeadLag Detection\n"
   ]
  },
  {
   "cell_type": "code",
   "execution_count": null,
   "metadata": {
    "id": "bNYP8dVLoKH4"
   },
   "outputs": [],
   "source": [
    "from pickle import TRUE\n",
    "LeadLag_config = {\n",
    "    'method': 'dtw',  # 'ccf_at_lag', 'ccf_auc', 'signature', 'ccf_at_max_lag'\n",
    "    'lookback': 30,\n",
    "    'update_freq': 1,\n",
    "    'use_parallel': False,\n",
    "    'num_cpus': 7,\n",
    "    'Scaling_Method': 'mean-centering', #mean-centering or by_std\n",
    "\n",
    "    # Method-specific configurations\n",
    "    'ccf_at_lag': {\n",
    "        'lag': 3,\n",
    "        'correlation_method': 'squared_pearson',    # 'pearson', 'kendall', 'spearman', 'distance', 'mutual_information', 'squared_pearson'\n",
    "        'quantiles': 7                      # Only needed if using mutual_information correlation\n",
    "    },\n",
    "\n",
    "    'ccf_auc': {\n",
    "        'max_lag': 15,                      # Required for ccf_auc\n",
    "        'correlation_method': 'mutual_information',\n",
    "        'quantiles': 5\n",
    "    },\n",
    "\n",
    "    'ccf_at_max_lag': {\n",
    "        'max_lag': 5,\n",
    "        'correlation_method': 'kendall',\n",
    "        'quantiles': 3\n",
    "    },\n",
    "\n",
    "    'signature': {\n",
    "        'sig_method' : 'custom', # levy or custom\n",
    "        'correlation_method': 'mutual_information',    # for consistency\n",
    "\n",
    "    },\n",
    "}"
   ]
  },
  {
   "cell_type": "code",
   "execution_count": null,
   "metadata": {
    "colab": {
     "base_uri": "https://localhost:8080/"
    },
    "id": "IZVt3sa8oMsv",
    "outputId": "9df89163-5ddf-4b07-a872-fd241609760f"
   },
   "outputs": [],
   "source": [
    "analyzer = LeadLagAnalyzer(LeadLag_config,universe)\n",
    "single_matrix = analyzer.analyze(close_price, return_rolling=True)\n"
   ]
  },
  {
   "cell_type": "code",
   "execution_count": null,
   "metadata": {
    "colab": {
     "base_uri": "https://localhost:8080/",
     "height": 697
    },
    "id": "HlXQJrn1HQKf",
    "outputId": "824f9d2b-c1de-4536-a953-ed6f3b7c4d77"
   },
   "outputs": [],
   "source": [
    "single_matrix.iloc[500]"
   ]
  },
  {
   "cell_type": "code",
   "execution_count": null,
   "metadata": {
    "id": "lrrL8SPyH0wi"
   },
   "outputs": [],
   "source": [
    "leader_follower_detector_config={\n",
    "    'method': 'percentile', # percentile\n",
    "    'agg_func': 'mean' , #sum or mean\n",
    "\n",
    "    # percentile parameter\n",
    "    'top_percentile': 50.0,\n",
    "    'bottom_percentile': 50.0,\n",
    "}"
   ]
  },
  {
   "cell_type": "code",
   "execution_count": null,
   "metadata": {
    "colab": {
     "base_uri": "https://localhost:8080/",
     "height": 321
    },
    "id": "Qzerb85_uENo",
    "outputId": "3fa51bb9-262c-47dd-9da3-0e0ee76ce574"
   },
   "outputs": [],
   "source": [
    "leader_followers = analyzer.leader_follower_detector(single_matrix , leader_follower_detector_config)"
   ]
  },
  {
   "cell_type": "code",
   "execution_count": null,
   "metadata": {
    "colab": {
     "base_uri": "https://localhost:8080/",
     "height": 238
    },
    "id": "pe-ivIKeA3lY",
    "outputId": "3d0ad2e7-6075-4dc8-c549-1c2de97025a5"
   },
   "outputs": [],
   "source": [
    "\n",
    "leader_followers.iloc[0]"
   ]
  }
 ],
 "metadata": {
  "colab": {
   "provenance": []
  },
  "kernelspec": {
   "display_name": "Python 3",
   "name": "python3"
  },
  "language_info": {
   "name": "python"
  }
 },
 "nbformat": 4,
 "nbformat_minor": 0
}
